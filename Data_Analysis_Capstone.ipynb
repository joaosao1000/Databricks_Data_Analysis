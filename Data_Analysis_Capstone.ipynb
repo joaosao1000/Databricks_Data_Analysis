{
 "cells": [
  {
   "cell_type": "code",
   "execution_count": 0,
   "metadata": {
    "application/vnd.databricks.v1+cell": {
     "cellMetadata": {
      "byteLimit": 2048000,
      "rowLimit": 10000
     },
     "inputWidgets": {},
     "nuid": "afb7242c-13db-4872-a6b6-0ad5bd762d0d",
     "showTitle": false,
     "tableResultSettingsMap": {},
     "title": ""
    }
   },
   "outputs": [],
   "source": [
    "df_sales = spark.read.csv(\"/FileStore/tables/sales_data.csv\", header=True, inferSchema=True)\n",
    "df_store = spark.read.csv(\"/FileStore/tables/store_data.csv\", header=True, inferSchema=True)\n",
    "\n",
    "display(df_store)"
   ]
  },
  {
   "cell_type": "code",
   "execution_count": 0,
   "metadata": {
    "application/vnd.databricks.v1+cell": {
     "cellMetadata": {
      "byteLimit": 2048000,
      "rowLimit": 10000
     },
     "inputWidgets": {},
     "nuid": "e4ef67ed-70a8-4e77-950c-66fc570831ce",
     "showTitle": false,
     "tableResultSettingsMap": {},
     "title": ""
    }
   },
   "outputs": [],
   "source": [
    "display(df_sales)"
   ]
  },
  {
   "cell_type": "code",
   "execution_count": 0,
   "metadata": {
    "application/vnd.databricks.v1+cell": {
     "cellMetadata": {
      "byteLimit": 2048000,
      "rowLimit": 10000
     },
     "inputWidgets": {},
     "nuid": "144ab2c7-5be0-427b-91aa-6a1037274f7c",
     "showTitle": false,
     "tableResultSettingsMap": {},
     "title": ""
    }
   },
   "outputs": [],
   "source": [
    "from pyspark.sql.functions import *\n",
    "\n",
    "df1 = df_sales.filter(df_sales['total_amount'] > 0)  # eliminar valores negativos e incorretos (erros)\n",
    "df1 = df1.dropDuplicates()\n",
    "df2 = df1.fillna({'sale_date': '2025-05-22'}) # setar data de vendas nulas para data atual. feito pois nao era necessario filtro/dt\n",
    "df3 = df2.filter(col(\"sale_id\").isNotNull()) # remaneja os valores nulos\n",
    "df4 = df3.withColumn(\"year_sale\", year(col(\"sale_date\"))) # cria coluna \"year\" com o ano de cada venda\n",
    "\n",
    "display(df4)\n",
    "\n"
   ]
  },
  {
   "cell_type": "code",
   "execution_count": 0,
   "metadata": {
    "application/vnd.databricks.v1+cell": {
     "cellMetadata": {
      "byteLimit": 2048000,
      "rowLimit": 10000
     },
     "inputWidgets": {},
     "nuid": "c606c387-6eb2-4eb0-afe4-5961e429678a",
     "showTitle": false,
     "tableResultSettingsMap": {},
     "title": ""
    }
   },
   "outputs": [],
   "source": [
    "df_store_final = df_store.filter(col(\"store_id\").isNotNull())\n",
    "avg_size = df_store_final.select(avg(\"store_size\")).first()[0] # calcula avg da coluna size\n",
    "df_store_final = df_store_final.fillna({'store_size': avg_size}) # seta na coluna size os valores nulos com o avg\n",
    "df_store_final = df_store_final.fillna({'open_date': '1910-05-22'}) # seta na coluna open_data valores antigos\n",
    "\n",
    "display(df_store_final)\n"
   ]
  },
  {
   "cell_type": "code",
   "execution_count": 0,
   "metadata": {
    "application/vnd.databricks.v1+cell": {
     "cellMetadata": {
      "byteLimit": 2048000,
      "rowLimit": 10000
     },
     "inputWidgets": {},
     "nuid": "e917d36a-230e-43d3-84e6-0bce8ebdf910",
     "showTitle": false,
     "tableResultSettingsMap": {},
     "title": ""
    }
   },
   "outputs": [],
   "source": [
    "df_combined = df4.join(df_store_final, on='store_id', how='inner') # joins dos 2 dfs\n",
    "display(df_combined)"
   ]
  },
  {
   "cell_type": "code",
   "execution_count": 0,
   "metadata": {
    "application/vnd.databricks.v1+cell": {
     "cellMetadata": {
      "byteLimit": 2048000,
      "rowLimit": 10000
     },
     "inputWidgets": {},
     "nuid": "1f7af442-a056-47dd-87e0-5a728d3a71c2",
     "showTitle": false,
     "tableResultSettingsMap": {},
     "title": ""
    }
   },
   "outputs": [
    {
     "data": {
      "text/html": [
       "<style scoped>\n",
       "  .table-result-container {\n",
       "    max-height: 300px;\n",
       "    overflow: auto;\n",
       "  }\n",
       "  table, th, td {\n",
       "    border: 1px solid black;\n",
       "    border-collapse: collapse;\n",
       "  }\n",
       "  th, td {\n",
       "    padding: 5px;\n",
       "  }\n",
       "  th {\n",
       "    text-align: left;\n",
       "  }\n",
       "</style><div class='table-result-container'><table class='table-result'><thead style='background-color: white'><tr><th>store_id</th><th>total_amount</th></tr></thead><tbody><tr><td>8.0</td><td>67785.0</td></tr><tr><td>7.0</td><td>55415.0</td></tr><tr><td>18.0</td><td>43247.0</td></tr><tr><td>1.0</td><td>43767.0</td></tr><tr><td>4.0</td><td>47623.0</td></tr><tr><td>11.0</td><td>69091.0</td></tr><tr><td>14.0</td><td>44312.0</td></tr><tr><td>3.0</td><td>49463.0</td></tr><tr><td>19.0</td><td>58533.0</td></tr><tr><td>2.0</td><td>66691.0</td></tr><tr><td>17.0</td><td>61742.0</td></tr><tr><td>10.0</td><td>75254.0</td></tr><tr><td>13.0</td><td>76172.0</td></tr><tr><td>20.0</td><td>55973.0</td></tr><tr><td>5.0</td><td>56877.0</td></tr><tr><td>9.0</td><td>53881.0</td></tr><tr><td>16.0</td><td>41035.0</td></tr><tr><td>12.0</td><td>36908.0</td></tr></tbody></table></div>"
      ]
     },
     "metadata": {
      "application/vnd.databricks.v1+output": {
       "addedWidgets": {},
       "aggData": [],
       "aggError": "",
       "aggOverflow": false,
       "aggSchema": [],
       "aggSeriesLimitReached": false,
       "aggType": "",
       "arguments": {},
       "columnCustomDisplayInfos": {},
       "data": [
        [
         8,
         67785
        ],
        [
         7,
         55415
        ],
        [
         18,
         43247
        ],
        [
         1,
         43767
        ],
        [
         4,
         47623
        ],
        [
         11,
         69091
        ],
        [
         14,
         44312
        ],
        [
         3,
         49463
        ],
        [
         19,
         58533
        ],
        [
         2,
         66691
        ],
        [
         17,
         61742
        ],
        [
         10,
         75254
        ],
        [
         13,
         76172
        ],
        [
         20,
         55973
        ],
        [
         5,
         56877
        ],
        [
         9,
         53881
        ],
        [
         16,
         41035
        ],
        [
         12,
         36908
        ]
       ],
       "datasetInfos": [],
       "dbfsResultPath": null,
       "isJsonSchema": true,
       "metadata": {},
       "overflow": false,
       "plotOptions": {
        "customPlotOptions": {},
        "displayType": "table",
        "pivotAggregation": null,
        "pivotColumns": null,
        "xColumns": null,
        "yColumns": null
       },
       "removedWidgets": [],
       "schema": [
        {
         "metadata": "{}",
         "name": "store_id",
         "type": "\"double\""
        },
        {
         "metadata": "{}",
         "name": "total_amount",
         "type": "\"double\""
        }
       ],
       "type": "table"
      }
     },
     "output_type": "display_data"
    }
   ],
   "source": [
    "df_total_store = df_combined.groupBy(\"store_id\").agg(round(sum(\"total_amount\")).alias(\"total_amount\"))\n",
    "display(df_total_store) # total vendas/loja"
   ]
  },
  {
   "cell_type": "code",
   "execution_count": 0,
   "metadata": {
    "application/vnd.databricks.v1+cell": {
     "cellMetadata": {
      "byteLimit": 2048000,
      "rowLimit": 10000
     },
     "inputWidgets": {},
     "nuid": "d20dcd36-fb8d-4ff1-a73b-e38911b6b646",
     "showTitle": false,
     "tableResultSettingsMap": {},
     "title": ""
    }
   },
   "outputs": [
    {
     "data": {
      "text/html": [
       "<style scoped>\n",
       "  .table-result-container {\n",
       "    max-height: 300px;\n",
       "    overflow: auto;\n",
       "  }\n",
       "  table, th, td {\n",
       "    border: 1px solid black;\n",
       "    border-collapse: collapse;\n",
       "  }\n",
       "  th, td {\n",
       "    padding: 5px;\n",
       "  }\n",
       "  th {\n",
       "    text-align: left;\n",
       "  }\n",
       "</style><div class='table-result-container'><table class='table-result'><thead style='background-color: white'><tr><th>year_sale</th><th>total_amount</th></tr></thead><tbody><tr><td>2025</td><td>104295.0</td></tr><tr><td>2023</td><td>692.0</td></tr><tr><td>2022</td><td>292422.0</td></tr><tr><td>2020</td><td>304396.0</td></tr><tr><td>2021</td><td>301965.0</td></tr></tbody></table></div>"
      ]
     },
     "metadata": {
      "application/vnd.databricks.v1+output": {
       "addedWidgets": {},
       "aggData": [],
       "aggError": "",
       "aggOverflow": false,
       "aggSchema": [],
       "aggSeriesLimitReached": false,
       "aggType": "",
       "arguments": {},
       "columnCustomDisplayInfos": {},
       "data": [
        [
         2025,
         104295
        ],
        [
         2023,
         692
        ],
        [
         2022,
         292422
        ],
        [
         2020,
         304396
        ],
        [
         2021,
         301965
        ]
       ],
       "datasetInfos": [],
       "dbfsResultPath": null,
       "isJsonSchema": true,
       "metadata": {},
       "overflow": false,
       "plotOptions": {
        "customPlotOptions": {},
        "displayType": "table",
        "pivotAggregation": null,
        "pivotColumns": null,
        "xColumns": null,
        "yColumns": null
       },
       "removedWidgets": [],
       "schema": [
        {
         "metadata": "{}",
         "name": "year_sale",
         "type": "\"integer\""
        },
        {
         "metadata": "{}",
         "name": "total_amount",
         "type": "\"double\""
        }
       ],
       "type": "table"
      }
     },
     "output_type": "display_data"
    }
   ],
   "source": [
    "df_sales_year = df_combined.groupBy(\"year_sale\").agg(round(sum(\"total_amount\")).alias(\"total_amount\"))\n",
    "display(df_sales_year) # total vendas/ano"
   ]
  },
  {
   "cell_type": "code",
   "execution_count": 0,
   "metadata": {
    "application/vnd.databricks.v1+cell": {
     "cellMetadata": {
      "byteLimit": 2048000,
      "rowLimit": 10000
     },
     "inputWidgets": {},
     "nuid": "577b1c6c-2b1a-4eb0-9bf1-4dd7ca7fc3d1",
     "showTitle": false,
     "tableResultSettingsMap": {},
     "title": ""
    }
   },
   "outputs": [
    {
     "data": {
      "text/html": [
       "<style scoped>\n",
       "  .table-result-container {\n",
       "    max-height: 300px;\n",
       "    overflow: auto;\n",
       "  }\n",
       "  table, th, td {\n",
       "    border: 1px solid black;\n",
       "    border-collapse: collapse;\n",
       "  }\n",
       "  th, td {\n",
       "    padding: 5px;\n",
       "  }\n",
       "  th {\n",
       "    text-align: left;\n",
       "  }\n",
       "</style><div class='table-result-container'><table class='table-result'><thead style='background-color: white'><tr><th>product_id</th><th>total_amount</th></tr></thead><tbody><tr><td>31</td><td>7682.0</td></tr><tr><td>34</td><td>15438.0</td></tr><tr><td>28</td><td>27685.0</td></tr><tr><td>27</td><td>13279.0</td></tr><tr><td>26</td><td>19600.0</td></tr><tr><td>44</td><td>17937.0</td></tr><tr><td>12</td><td>26458.0</td></tr><tr><td>22</td><td>21142.0</td></tr><tr><td>47</td><td>16451.0</td></tr><tr><td>1</td><td>18854.0</td></tr><tr><td>13</td><td>17263.0</td></tr><tr><td>6</td><td>19062.0</td></tr><tr><td>16</td><td>15249.0</td></tr><tr><td>3</td><td>13782.0</td></tr><tr><td>40</td><td>18448.0</td></tr><tr><td>20</td><td>14073.0</td></tr><tr><td>48</td><td>25005.0</td></tr><tr><td>5</td><td>22101.0</td></tr><tr><td>19</td><td>19591.0</td></tr><tr><td>41</td><td>7785.0</td></tr><tr><td>43</td><td>28734.0</td></tr><tr><td>15</td><td>39824.0</td></tr><tr><td>37</td><td>23855.0</td></tr><tr><td>9</td><td>17573.0</td></tr><tr><td>17</td><td>7883.0</td></tr><tr><td>35</td><td>30198.0</td></tr><tr><td>4</td><td>8729.0</td></tr><tr><td>8</td><td>21316.0</td></tr><tr><td>23</td><td>28603.0</td></tr><tr><td>39</td><td>14134.0</td></tr><tr><td>49</td><td>22677.0</td></tr><tr><td>7</td><td>15353.0</td></tr><tr><td>10</td><td>10057.0</td></tr><tr><td>50</td><td>24560.0</td></tr><tr><td>45</td><td>18162.0</td></tr><tr><td>38</td><td>14086.0</td></tr><tr><td>25</td><td>18373.0</td></tr><tr><td>24</td><td>10220.0</td></tr><tr><td>29</td><td>21224.0</td></tr><tr><td>21</td><td>9206.0</td></tr><tr><td>32</td><td>32385.0</td></tr><tr><td>33</td><td>14832.0</td></tr><tr><td>11</td><td>33555.0</td></tr><tr><td>14</td><td>33054.0</td></tr><tr><td>42</td><td>20421.0</td></tr><tr><td>2</td><td>22316.0</td></tr><tr><td>30</td><td>21766.0</td></tr><tr><td>46</td><td>37874.0</td></tr><tr><td>18</td><td>29496.0</td></tr><tr><td>36</td><td>16420.0</td></tr></tbody></table></div>"
      ]
     },
     "metadata": {
      "application/vnd.databricks.v1+output": {
       "addedWidgets": {},
       "aggData": [],
       "aggError": "",
       "aggOverflow": false,
       "aggSchema": [],
       "aggSeriesLimitReached": false,
       "aggType": "",
       "arguments": {},
       "columnCustomDisplayInfos": {},
       "data": [
        [
         31,
         7682
        ],
        [
         34,
         15438
        ],
        [
         28,
         27685
        ],
        [
         27,
         13279
        ],
        [
         26,
         19600
        ],
        [
         44,
         17937
        ],
        [
         12,
         26458
        ],
        [
         22,
         21142
        ],
        [
         47,
         16451
        ],
        [
         1,
         18854
        ],
        [
         13,
         17263
        ],
        [
         6,
         19062
        ],
        [
         16,
         15249
        ],
        [
         3,
         13782
        ],
        [
         40,
         18448
        ],
        [
         20,
         14073
        ],
        [
         48,
         25005
        ],
        [
         5,
         22101
        ],
        [
         19,
         19591
        ],
        [
         41,
         7785
        ],
        [
         43,
         28734
        ],
        [
         15,
         39824
        ],
        [
         37,
         23855
        ],
        [
         9,
         17573
        ],
        [
         17,
         7883
        ],
        [
         35,
         30198
        ],
        [
         4,
         8729
        ],
        [
         8,
         21316
        ],
        [
         23,
         28603
        ],
        [
         39,
         14134
        ],
        [
         49,
         22677
        ],
        [
         7,
         15353
        ],
        [
         10,
         10057
        ],
        [
         50,
         24560
        ],
        [
         45,
         18162
        ],
        [
         38,
         14086
        ],
        [
         25,
         18373
        ],
        [
         24,
         10220
        ],
        [
         29,
         21224
        ],
        [
         21,
         9206
        ],
        [
         32,
         32385
        ],
        [
         33,
         14832
        ],
        [
         11,
         33555
        ],
        [
         14,
         33054
        ],
        [
         42,
         20421
        ],
        [
         2,
         22316
        ],
        [
         30,
         21766
        ],
        [
         46,
         37874
        ],
        [
         18,
         29496
        ],
        [
         36,
         16420
        ]
       ],
       "datasetInfos": [],
       "dbfsResultPath": null,
       "isJsonSchema": true,
       "metadata": {},
       "overflow": false,
       "plotOptions": {
        "customPlotOptions": {},
        "displayType": "table",
        "pivotAggregation": null,
        "pivotColumns": null,
        "xColumns": null,
        "yColumns": null
       },
       "removedWidgets": [],
       "schema": [
        {
         "metadata": "{}",
         "name": "product_id",
         "type": "\"integer\""
        },
        {
         "metadata": "{}",
         "name": "total_amount",
         "type": "\"double\""
        }
       ],
       "type": "table"
      }
     },
     "output_type": "display_data"
    }
   ],
   "source": [
    "df_product_sales = df_combined.groupBy(\"product_id\").agg(round(sum(\"total_amount\")).alias(\"total_amount\"))\n",
    "\n",
    "display(df_product_sales) # total vendas/produto"
   ]
  },
  {
   "cell_type": "code",
   "execution_count": 0,
   "metadata": {
    "application/vnd.databricks.v1+cell": {
     "cellMetadata": {
      "byteLimit": 2048000,
      "rowLimit": 10000
     },
     "inputWidgets": {},
     "nuid": "4ffe5c0d-715a-45cc-bab6-6e56c5127056",
     "showTitle": false,
     "tableResultSettingsMap": {},
     "title": ""
    }
   },
   "outputs": [
    {
     "data": {
      "text/html": [
       "<style scoped>\n",
       "  .table-result-container {\n",
       "    max-height: 300px;\n",
       "    overflow: auto;\n",
       "  }\n",
       "  table, th, td {\n",
       "    border: 1px solid black;\n",
       "    border-collapse: collapse;\n",
       "  }\n",
       "  th, td {\n",
       "    padding: 5px;\n",
       "  }\n",
       "  th {\n",
       "    text-align: left;\n",
       "  }\n",
       "</style><div class='table-result-container'><table class='table-result'><thead style='background-color: white'><tr><th>store_id</th><th>total_amount</th></tr></thead><tbody><tr><td>13.0</td><td>76172.0</td></tr><tr><td>10.0</td><td>75254.0</td></tr><tr><td>11.0</td><td>69091.0</td></tr><tr><td>8.0</td><td>67785.0</td></tr><tr><td>2.0</td><td>66691.0</td></tr></tbody></table></div>"
      ]
     },
     "metadata": {
      "application/vnd.databricks.v1+output": {
       "addedWidgets": {},
       "aggData": [],
       "aggError": "",
       "aggOverflow": false,
       "aggSchema": [],
       "aggSeriesLimitReached": false,
       "aggType": "",
       "arguments": {},
       "columnCustomDisplayInfos": {},
       "data": [
        [
         13,
         76172
        ],
        [
         10,
         75254
        ],
        [
         11,
         69091
        ],
        [
         8,
         67785
        ],
        [
         2,
         66691
        ]
       ],
       "datasetInfos": [],
       "dbfsResultPath": null,
       "isJsonSchema": true,
       "metadata": {},
       "overflow": false,
       "plotOptions": {
        "customPlotOptions": {},
        "displayType": "table",
        "pivotAggregation": null,
        "pivotColumns": null,
        "xColumns": null,
        "yColumns": null
       },
       "removedWidgets": [],
       "schema": [
        {
         "metadata": "{}",
         "name": "store_id",
         "type": "\"double\""
        },
        {
         "metadata": "{}",
         "name": "total_amount",
         "type": "\"double\""
        }
       ],
       "type": "table"
      }
     },
     "output_type": "display_data"
    },
    {
     "data": {
      "text/html": [
       "<style scoped>\n",
       "  .table-result-container {\n",
       "    max-height: 300px;\n",
       "    overflow: auto;\n",
       "  }\n",
       "  table, th, td {\n",
       "    border: 1px solid black;\n",
       "    border-collapse: collapse;\n",
       "  }\n",
       "  th, td {\n",
       "    padding: 5px;\n",
       "  }\n",
       "  th {\n",
       "    text-align: left;\n",
       "  }\n",
       "</style><div class='table-result-container'><table class='table-result'><thead style='background-color: white'><tr><th>product_id</th><th>total_amount</th></tr></thead><tbody><tr><td>15</td><td>39824.0</td></tr><tr><td>46</td><td>37874.0</td></tr><tr><td>11</td><td>33555.0</td></tr><tr><td>14</td><td>33054.0</td></tr><tr><td>32</td><td>32385.0</td></tr></tbody></table></div>"
      ]
     },
     "metadata": {
      "application/vnd.databricks.v1+output": {
       "addedWidgets": {},
       "aggData": [],
       "aggError": "",
       "aggOverflow": false,
       "aggSchema": [],
       "aggSeriesLimitReached": false,
       "aggType": "",
       "arguments": {},
       "columnCustomDisplayInfos": {},
       "data": [
        [
         15,
         39824
        ],
        [
         46,
         37874
        ],
        [
         11,
         33555
        ],
        [
         14,
         33054
        ],
        [
         32,
         32385
        ]
       ],
       "datasetInfos": [],
       "dbfsResultPath": null,
       "isJsonSchema": true,
       "metadata": {},
       "overflow": false,
       "plotOptions": {
        "customPlotOptions": {},
        "displayType": "table",
        "pivotAggregation": null,
        "pivotColumns": null,
        "xColumns": null,
        "yColumns": null
       },
       "removedWidgets": [],
       "schema": [
        {
         "metadata": "{}",
         "name": "product_id",
         "type": "\"integer\""
        },
        {
         "metadata": "{}",
         "name": "total_amount",
         "type": "\"double\""
        }
       ],
       "type": "table"
      }
     },
     "output_type": "display_data"
    }
   ],
   "source": [
    "top5_stores = df_total_store.orderBy(col(\"total_amount\").desc()).limit(5)\n",
    "top5_products = df_product_sales.orderBy(col(\"total_amount\").desc()).limit(5)\n",
    "\n",
    "display(top5_stores)\n",
    "display(top5_products)\n"
   ]
  },
  {
   "cell_type": "code",
   "execution_count": 0,
   "metadata": {
    "application/vnd.databricks.v1+cell": {
     "cellMetadata": {
      "byteLimit": 2048000,
      "rowLimit": 10000
     },
     "inputWidgets": {},
     "nuid": "11055275-71ad-47ff-a5be-2776f74d1781",
     "showTitle": false,
     "tableResultSettingsMap": {},
     "title": ""
    }
   },
   "outputs": [],
   "source": []
  }
 ],
 "metadata": {
  "application/vnd.databricks.v1+notebook": {
   "computePreferences": null,
   "dashboards": [],
   "environmentMetadata": {
    "base_environment": "",
    "environment_version": "2"
   },
   "inputWidgetPreferences": null,
   "language": "python",
   "notebookMetadata": {
    "pythonIndentUnit": 4
   },
   "notebookName": "Data_Analysis_Capstone",
   "widgets": {}
  },
  "language_info": {
   "name": "python"
  }
 },
 "nbformat": 4,
 "nbformat_minor": 0
}
